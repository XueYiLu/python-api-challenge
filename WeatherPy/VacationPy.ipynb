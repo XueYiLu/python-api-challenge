{
 "cells": [
  {
   "cell_type": "markdown",
   "metadata": {},
   "source": [
    "# VacationPy\n",
    "---\n",
    "\n",
    "## Starter Code to Import Libraries and Load the Weather and Coordinates Data"
   ]
  },
  {
   "cell_type": "code",
   "execution_count": 12,
   "metadata": {
    "tags": []
   },
   "outputs": [],
   "source": [
    "# Dependencies and Setup\n",
    "import hvplot.pandas\n",
    "import pandas as pd\n",
    "import requests\n",
    "import geopandas as gpd\n",
    "\n",
    "# Import API key\n",
    "from api_keys import geoapify_key"
   ]
  },
  {
   "cell_type": "code",
   "execution_count": 9,
   "metadata": {
    "tags": []
   },
   "outputs": [
    {
     "data": {
      "text/html": [
       "<div>\n",
       "<style scoped>\n",
       "    .dataframe tbody tr th:only-of-type {\n",
       "        vertical-align: middle;\n",
       "    }\n",
       "\n",
       "    .dataframe tbody tr th {\n",
       "        vertical-align: top;\n",
       "    }\n",
       "\n",
       "    .dataframe thead th {\n",
       "        text-align: right;\n",
       "    }\n",
       "</style>\n",
       "<table border=\"1\" class=\"dataframe\">\n",
       "  <thead>\n",
       "    <tr style=\"text-align: right;\">\n",
       "      <th></th>\n",
       "      <th>City_ID</th>\n",
       "      <th>City</th>\n",
       "      <th>Lat</th>\n",
       "      <th>Lng</th>\n",
       "      <th>Max Temp</th>\n",
       "      <th>Humidity</th>\n",
       "      <th>Cloudiness</th>\n",
       "      <th>Wind Speed</th>\n",
       "      <th>Country</th>\n",
       "      <th>Date</th>\n",
       "    </tr>\n",
       "  </thead>\n",
       "  <tbody>\n",
       "    <tr>\n",
       "      <th>0</th>\n",
       "      <td>0</td>\n",
       "      <td>edinburgh of the seven seas</td>\n",
       "      <td>-37.0676</td>\n",
       "      <td>-12.3116</td>\n",
       "      <td>291.59</td>\n",
       "      <td>98</td>\n",
       "      <td>100</td>\n",
       "      <td>11.06</td>\n",
       "      <td>SH</td>\n",
       "      <td>1704782899</td>\n",
       "    </tr>\n",
       "    <tr>\n",
       "      <th>1</th>\n",
       "      <td>1</td>\n",
       "      <td>arawa</td>\n",
       "      <td>-6.2132</td>\n",
       "      <td>155.5367</td>\n",
       "      <td>301.29</td>\n",
       "      <td>88</td>\n",
       "      <td>100</td>\n",
       "      <td>1.13</td>\n",
       "      <td>PG</td>\n",
       "      <td>1704782900</td>\n",
       "    </tr>\n",
       "    <tr>\n",
       "      <th>2</th>\n",
       "      <td>2</td>\n",
       "      <td>chibuto</td>\n",
       "      <td>-24.6867</td>\n",
       "      <td>33.5306</td>\n",
       "      <td>303.25</td>\n",
       "      <td>50</td>\n",
       "      <td>7</td>\n",
       "      <td>1.75</td>\n",
       "      <td>MZ</td>\n",
       "      <td>1704782900</td>\n",
       "    </tr>\n",
       "    <tr>\n",
       "      <th>3</th>\n",
       "      <td>3</td>\n",
       "      <td>hermanus</td>\n",
       "      <td>-34.4187</td>\n",
       "      <td>19.2345</td>\n",
       "      <td>293.69</td>\n",
       "      <td>69</td>\n",
       "      <td>10</td>\n",
       "      <td>5.00</td>\n",
       "      <td>ZA</td>\n",
       "      <td>1704782895</td>\n",
       "    </tr>\n",
       "    <tr>\n",
       "      <th>4</th>\n",
       "      <td>4</td>\n",
       "      <td>pyt-yakh</td>\n",
       "      <td>60.7499</td>\n",
       "      <td>72.8582</td>\n",
       "      <td>251.85</td>\n",
       "      <td>92</td>\n",
       "      <td>76</td>\n",
       "      <td>4.77</td>\n",
       "      <td>RU</td>\n",
       "      <td>1704782900</td>\n",
       "    </tr>\n",
       "  </tbody>\n",
       "</table>\n",
       "</div>"
      ],
      "text/plain": [
       "   City_ID                         City      Lat       Lng  Max Temp  \\\n",
       "0        0  edinburgh of the seven seas -37.0676  -12.3116    291.59   \n",
       "1        1                        arawa  -6.2132  155.5367    301.29   \n",
       "2        2                      chibuto -24.6867   33.5306    303.25   \n",
       "3        3                     hermanus -34.4187   19.2345    293.69   \n",
       "4        4                     pyt-yakh  60.7499   72.8582    251.85   \n",
       "\n",
       "   Humidity  Cloudiness  Wind Speed Country        Date  \n",
       "0        98         100       11.06      SH  1704782899  \n",
       "1        88         100        1.13      PG  1704782900  \n",
       "2        50           7        1.75      MZ  1704782900  \n",
       "3        69          10        5.00      ZA  1704782895  \n",
       "4        92          76        4.77      RU  1704782900  "
      ]
     },
     "execution_count": 9,
     "metadata": {},
     "output_type": "execute_result"
    }
   ],
   "source": [
    "# Load the CSV file created in Part 1 into a Pandas DataFrame\n",
    "city_data_df = pd.read_csv(\"output_data/cities.csv\")\n",
    "# Display sample data\n",
    "city_data_df.head()"
   ]
  },
  {
   "cell_type": "markdown",
   "metadata": {},
   "source": [
    "---\n",
    "\n",
    "### Step 1: Create a map that displays a point for every city in the `city_data_df` DataFrame. The size of the point should be the humidity in each city."
   ]
  },
  {
   "cell_type": "code",
   "execution_count": 13,
   "metadata": {
    "tags": []
   },
   "outputs": [
    {
     "data": {},
     "metadata": {},
     "output_type": "display_data"
    },
    {
     "data": {
      "application/vnd.holoviews_exec.v0+json": "",
      "text/html": [
       "<div id='p1005'>\n",
       "  <div id=\"fc7afddb-d5bd-4126-9c76-021a75f43437\" data-root-id=\"p1005\" style=\"display: contents;\"></div>\n",
       "</div>\n",
       "<script type=\"application/javascript\">(function(root) {\n",
       "  var docs_json = {\"f576d925-98f0-49c4-9065-f17d5bb4e728\":{\"version\":\"3.2.1\",\"title\":\"Bokeh Application\",\"roots\":[{\"type\":\"object\",\"name\":\"Row\",\"id\":\"p1005\",\"attributes\":{\"name\":\"Row01595\",\"tags\":[\"embedded\"],\"stylesheets\":[\"\\n:host(.pn-loading.pn-arc):before, .pn-loading.pn-arc:before {\\n  background-image: url(\\\"data:image/svg+xml;base64,PHN2ZyB4bWxucz0iaHR0cDovL3d3dy53My5vcmcvMjAwMC9zdmciIHN0eWxlPSJtYXJnaW46IGF1dG87IGJhY2tncm91bmQ6IG5vbmU7IGRpc3BsYXk6IGJsb2NrOyBzaGFwZS1yZW5kZXJpbmc6IGF1dG87IiB2aWV3Qm94PSIwIDAgMTAwIDEwMCIgcHJlc2VydmVBc3BlY3RSYXRpbz0ieE1pZFlNaWQiPiAgPGNpcmNsZSBjeD0iNTAiIGN5PSI1MCIgZmlsbD0ibm9uZSIgc3Ryb2tlPSIjYzNjM2MzIiBzdHJva2Utd2lkdGg9IjEwIiByPSIzNSIgc3Ryb2tlLWRhc2hhcnJheT0iMTY0LjkzMzYxNDMxMzQ2NDE1IDU2Ljk3Nzg3MTQzNzgyMTM4Ij4gICAgPGFuaW1hdGVUcmFuc2Zvcm0gYXR0cmlidXRlTmFtZT0idHJhbnNmb3JtIiB0eXBlPSJyb3RhdGUiIHJlcGVhdENvdW50PSJpbmRlZmluaXRlIiBkdXI9IjFzIiB2YWx1ZXM9IjAgNTAgNTA7MzYwIDUwIDUwIiBrZXlUaW1lcz0iMDsxIj48L2FuaW1hdGVUcmFuc2Zvcm0+ICA8L2NpcmNsZT48L3N2Zz4=\\\");\\n  background-size: auto calc(min(50%, 400px));\\n}\",{\"type\":\"object\",\"name\":\"ImportedStyleSheet\",\"id\":\"p1008\",\"attributes\":{\"url\":\"https://cdn.holoviz.org/panel/1.2.3/dist/css/loading.css\"}},{\"type\":\"object\",\"name\":\"ImportedStyleSheet\",\"id\":\"p1062\",\"attributes\":{\"url\":\"https://cdn.holoviz.org/panel/1.2.3/dist/css/listpanel.css\"}},{\"type\":\"object\",\"name\":\"ImportedStyleSheet\",\"id\":\"p1006\",\"attributes\":{\"url\":\"https://cdn.holoviz.org/panel/1.2.3/dist/bundled/theme/default.css\"}},{\"type\":\"object\",\"name\":\"ImportedStyleSheet\",\"id\":\"p1007\",\"attributes\":{\"url\":\"https://cdn.holoviz.org/panel/1.2.3/dist/bundled/theme/native.css\"}}],\"min_width\":800,\"margin\":0,\"sizing_mode\":\"stretch_width\",\"align\":\"start\",\"children\":[{\"type\":\"object\",\"name\":\"Spacer\",\"id\":\"p1009\",\"attributes\":{\"name\":\"HSpacer01606\",\"stylesheets\":[\"\\n:host(.pn-loading.pn-arc):before, .pn-loading.pn-arc:before {\\n  background-image: url(\\\"data:image/svg+xml;base64,PHN2ZyB4bWxucz0iaHR0cDovL3d3dy53My5vcmcvMjAwMC9zdmciIHN0eWxlPSJtYXJnaW46IGF1dG87IGJhY2tncm91bmQ6IG5vbmU7IGRpc3BsYXk6IGJsb2NrOyBzaGFwZS1yZW5kZXJpbmc6IGF1dG87IiB2aWV3Qm94PSIwIDAgMTAwIDEwMCIgcHJlc2VydmVBc3BlY3RSYXRpbz0ieE1pZFlNaWQiPiAgPGNpcmNsZSBjeD0iNTAiIGN5PSI1MCIgZmlsbD0ibm9uZSIgc3Ryb2tlPSIjYzNjM2MzIiBzdHJva2Utd2lkdGg9IjEwIiByPSIzNSIgc3Ryb2tlLWRhc2hhcnJheT0iMTY0LjkzMzYxNDMxMzQ2NDE1IDU2Ljk3Nzg3MTQzNzgyMTM4Ij4gICAgPGFuaW1hdGVUcmFuc2Zvcm0gYXR0cmlidXRlTmFtZT0idHJhbnNmb3JtIiB0eXBlPSJyb3RhdGUiIHJlcGVhdENvdW50PSJpbmRlZmluaXRlIiBkdXI9IjFzIiB2YWx1ZXM9IjAgNTAgNTA7MzYwIDUwIDUwIiBrZXlUaW1lcz0iMDsxIj48L2FuaW1hdGVUcmFuc2Zvcm0+ICA8L2NpcmNsZT48L3N2Zz4=\\\");\\n  background-size: auto calc(min(50%, 400px));\\n}\",{\"id\":\"p1008\"},{\"id\":\"p1006\"},{\"id\":\"p1007\"}],\"margin\":0,\"sizing_mode\":\"stretch_width\",\"align\":\"start\"}},{\"type\":\"object\",\"name\":\"Figure\",\"id\":\"p1021\",\"attributes\":{\"width\":800,\"height\":500,\"margin\":[5,10],\"sizing_mode\":\"fixed\",\"align\":\"start\",\"x_range\":{\"type\":\"object\",\"name\":\"Range1d\",\"id\":\"p1013\",\"attributes\":{\"tags\":[[[\"Lng\",\"Lng\",null]],[]],\"start\":-179.98123328535348,\"end\":179.9896058848135,\"reset_start\":-179.98123328535348,\"reset_end\":179.9896058848135}},\"y_range\":{\"type\":\"object\",\"name\":\"Range1d\",\"id\":\"p1014\",\"attributes\":{\"tags\":[[[\"Lat\",\"Lat\",null]],{\"type\":\"map\",\"entries\":[[\"invert_yaxis\",false],[\"autorange\",false]]}],\"start\":-101.54181724067719,\"end\":123.43995724067719,\"reset_start\":-101.54181724067719,\"reset_end\":123.43995724067719}},\"x_scale\":{\"type\":\"object\",\"name\":\"LinearScale\",\"id\":\"p1031\"},\"y_scale\":{\"type\":\"object\",\"name\":\"LinearScale\",\"id\":\"p1032\"},\"title\":{\"type\":\"object\",\"name\":\"Title\",\"id\":\"p1024\",\"attributes\":{\"text\":\"City Humidity Map\",\"text_color\":\"black\",\"text_font_size\":\"12pt\"}},\"renderers\":[{\"type\":\"object\",\"name\":\"GlyphRenderer\",\"id\":\"p1055\",\"attributes\":{\"data_source\":{\"type\":\"object\",\"name\":\"ColumnDataSource\",\"id\":\"p1046\",\"attributes\":{\"selected\":{\"type\":\"object\",\"name\":\"Selection\",\"id\":\"p1047\",\"attributes\":{\"indices\":[],\"line_indices\":[]}},\"selection_policy\":{\"type\":\"object\",\"name\":\"UnionRenderers\",\"id\":\"p1048\"},\"data\":{\"type\":\"map\",\"entries\":[[\"Lng\",{\"type\":\"ndarray\",\"array\":{\"type\":\"bytes\",\"data\":\"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\"},\"shape\":[564],\"dtype\":\"float64\",\"order\":\"little\"}],[\"Lat\",{\"type\":\"ndarray\",\"array\":{\"type\":\"bytes\",\"data\":\"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\"},\"shape\":[564],\"dtype\":\"float64\",\"order\":\"little\"}],[\"Humidity\",{\"type\":\"ndarray\",\"array\":{\"type\":\"bytes\",\"data\":\"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\"},\"shape\":[564],\"dtype\":\"int32\",\"order\":\"little\"}],[\"size\",{\"type\":\"ndarray\",\"array\":{\"type\":\"bytes\",\"data\":\"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\"},\"shape\":[564],\"dtype\":\"float64\",\"order\":\"little\"}]]}}},\"view\":{\"type\":\"object\",\"name\":\"CDSView\",\"id\":\"p1056\",\"attributes\":{\"filter\":{\"type\":\"object\",\"name\":\"AllIndices\",\"id\":\"p1057\"}}},\"glyph\":{\"type\":\"object\",\"name\":\"Scatter\",\"id\":\"p1052\",\"attributes\":{\"tags\":[\"apply_ranges\"],\"x\":{\"type\":\"field\",\"field\":\"Lng\"},\"y\":{\"type\":\"field\",\"field\":\"Lat\"},\"size\":{\"type\":\"field\",\"field\":\"size\"},\"line_color\":{\"type\":\"value\",\"value\":\"#30a2da\"},\"fill_color\":{\"type\":\"value\",\"value\":\"#30a2da\"},\"hatch_color\":{\"type\":\"value\",\"value\":\"#30a2da\"}}},\"selection_glyph\":{\"type\":\"object\",\"name\":\"Scatter\",\"id\":\"p1058\",\"attributes\":{\"tags\":[\"apply_ranges\"],\"x\":{\"type\":\"field\",\"field\":\"Lng\"},\"y\":{\"type\":\"field\",\"field\":\"Lat\"},\"size\":{\"type\":\"field\",\"field\":\"size\"},\"angle\":{\"type\":\"value\",\"value\":0.0},\"line_color\":{\"type\":\"value\",\"value\":\"#30a2da\"},\"line_alpha\":{\"type\":\"value\",\"value\":1.0},\"line_width\":{\"type\":\"value\",\"value\":1},\"line_join\":{\"type\":\"value\",\"value\":\"bevel\"},\"line_cap\":{\"type\":\"value\",\"value\":\"butt\"},\"line_dash\":{\"type\":\"value\",\"value\":[]},\"line_dash_offset\":{\"type\":\"value\",\"value\":0},\"fill_color\":{\"type\":\"value\",\"value\":\"#30a2da\"},\"fill_alpha\":{\"type\":\"value\",\"value\":1.0},\"hatch_color\":{\"type\":\"value\",\"value\":\"#30a2da\"},\"hatch_alpha\":{\"type\":\"value\",\"value\":1.0},\"hatch_scale\":{\"type\":\"value\",\"value\":12.0},\"hatch_pattern\":{\"type\":\"value\",\"value\":null},\"hatch_weight\":{\"type\":\"value\",\"value\":1.0},\"marker\":{\"type\":\"value\",\"value\":\"circle\"}}},\"nonselection_glyph\":{\"type\":\"object\",\"name\":\"Scatter\",\"id\":\"p1053\",\"attributes\":{\"tags\":[\"apply_ranges\"],\"x\":{\"type\":\"field\",\"field\":\"Lng\"},\"y\":{\"type\":\"field\",\"field\":\"Lat\"},\"size\":{\"type\":\"field\",\"field\":\"size\"},\"line_color\":{\"type\":\"value\",\"value\":\"#30a2da\"},\"line_alpha\":{\"type\":\"value\",\"value\":0.1},\"fill_color\":{\"type\":\"value\",\"value\":\"#30a2da\"},\"fill_alpha\":{\"type\":\"value\",\"value\":0.1},\"hatch_color\":{\"type\":\"value\",\"value\":\"#30a2da\"},\"hatch_alpha\":{\"type\":\"value\",\"value\":0.1}}},\"muted_glyph\":{\"type\":\"object\",\"name\":\"Scatter\",\"id\":\"p1054\",\"attributes\":{\"tags\":[\"apply_ranges\"],\"x\":{\"type\":\"field\",\"field\":\"Lng\"},\"y\":{\"type\":\"field\",\"field\":\"Lat\"},\"size\":{\"type\":\"field\",\"field\":\"size\"},\"line_color\":{\"type\":\"value\",\"value\":\"#30a2da\"},\"line_alpha\":{\"type\":\"value\",\"value\":0.2},\"fill_color\":{\"type\":\"value\",\"value\":\"#30a2da\"},\"fill_alpha\":{\"type\":\"value\",\"value\":0.2},\"hatch_color\":{\"type\":\"value\",\"value\":\"#30a2da\"},\"hatch_alpha\":{\"type\":\"value\",\"value\":0.2}}}}}],\"toolbar\":{\"type\":\"object\",\"name\":\"Toolbar\",\"id\":\"p1030\",\"attributes\":{\"tools\":[{\"type\":\"object\",\"name\":\"WheelZoomTool\",\"id\":\"p1017\",\"attributes\":{\"zoom_on_axis\":false}},{\"type\":\"object\",\"name\":\"BoxZoomTool\",\"id\":\"p1018\",\"attributes\":{\"overlay\":{\"type\":\"object\",\"name\":\"BoxAnnotation\",\"id\":\"p1004\",\"attributes\":{\"syncable\":false,\"level\":\"overlay\",\"visible\":false,\"left_units\":\"canvas\",\"right_units\":\"canvas\",\"bottom_units\":\"canvas\",\"top_units\":\"canvas\",\"line_color\":\"black\",\"line_alpha\":1.0,\"line_width\":2,\"line_dash\":[4,4],\"fill_color\":\"lightgrey\",\"fill_alpha\":0.5}},\"match_aspect\":true}},{\"type\":\"object\",\"name\":\"HoverTool\",\"id\":\"p1020\",\"attributes\":{\"tags\":[\"hv_created\"],\"renderers\":[{\"id\":\"p1055\"}],\"tooltips\":[[\"Lng\",\"@{Lng}\"],[\"Lat\",\"@{Lat}\"],[\"Humidity\",\"@{Humidity}\"]]}},{\"type\":\"object\",\"name\":\"SaveTool\",\"id\":\"p1043\"},{\"type\":\"object\",\"name\":\"PanTool\",\"id\":\"p1044\"},{\"type\":\"object\",\"name\":\"ResetTool\",\"id\":\"p1045\"}],\"active_drag\":{\"id\":\"p1044\"}}},\"left\":[{\"type\":\"object\",\"name\":\"LinearAxis\",\"id\":\"p1038\",\"attributes\":{\"ticker\":{\"type\":\"object\",\"name\":\"BasicTicker\",\"id\":\"p1039\",\"attributes\":{\"mantissas\":[1,2,5]}},\"formatter\":{\"type\":\"object\",\"name\":\"BasicTickFormatter\",\"id\":\"p1040\"},\"axis_label\":\"Lat\",\"major_label_policy\":{\"type\":\"object\",\"name\":\"AllLabels\",\"id\":\"p1041\"}}}],\"below\":[{\"type\":\"object\",\"name\":\"LinearAxis\",\"id\":\"p1033\",\"attributes\":{\"ticker\":{\"type\":\"object\",\"name\":\"BasicTicker\",\"id\":\"p1034\",\"attributes\":{\"mantissas\":[1,2,5]}},\"formatter\":{\"type\":\"object\",\"name\":\"BasicTickFormatter\",\"id\":\"p1035\"},\"axis_label\":\"Lng\",\"major_label_policy\":{\"type\":\"object\",\"name\":\"AllLabels\",\"id\":\"p1036\"}}}],\"center\":[{\"type\":\"object\",\"name\":\"Grid\",\"id\":\"p1037\",\"attributes\":{\"axis\":{\"id\":\"p1033\"},\"grid_line_color\":null}},{\"type\":\"object\",\"name\":\"Grid\",\"id\":\"p1042\",\"attributes\":{\"dimension\":1,\"axis\":{\"id\":\"p1038\"},\"grid_line_color\":null}}],\"frame_width\":800,\"frame_height\":500,\"min_border_top\":10,\"min_border_bottom\":10,\"min_border_left\":10,\"min_border_right\":10,\"output_backend\":\"webgl\",\"match_aspect\":true}},{\"type\":\"object\",\"name\":\"Spacer\",\"id\":\"p1060\",\"attributes\":{\"name\":\"HSpacer01609\",\"stylesheets\":[\"\\n:host(.pn-loading.pn-arc):before, .pn-loading.pn-arc:before {\\n  background-image: url(\\\"data:image/svg+xml;base64,PHN2ZyB4bWxucz0iaHR0cDovL3d3dy53My5vcmcvMjAwMC9zdmciIHN0eWxlPSJtYXJnaW46IGF1dG87IGJhY2tncm91bmQ6IG5vbmU7IGRpc3BsYXk6IGJsb2NrOyBzaGFwZS1yZW5kZXJpbmc6IGF1dG87IiB2aWV3Qm94PSIwIDAgMTAwIDEwMCIgcHJlc2VydmVBc3BlY3RSYXRpbz0ieE1pZFlNaWQiPiAgPGNpcmNsZSBjeD0iNTAiIGN5PSI1MCIgZmlsbD0ibm9uZSIgc3Ryb2tlPSIjYzNjM2MzIiBzdHJva2Utd2lkdGg9IjEwIiByPSIzNSIgc3Ryb2tlLWRhc2hhcnJheT0iMTY0LjkzMzYxNDMxMzQ2NDE1IDU2Ljk3Nzg3MTQzNzgyMTM4Ij4gICAgPGFuaW1hdGVUcmFuc2Zvcm0gYXR0cmlidXRlTmFtZT0idHJhbnNmb3JtIiB0eXBlPSJyb3RhdGUiIHJlcGVhdENvdW50PSJpbmRlZmluaXRlIiBkdXI9IjFzIiB2YWx1ZXM9IjAgNTAgNTA7MzYwIDUwIDUwIiBrZXlUaW1lcz0iMDsxIj48L2FuaW1hdGVUcmFuc2Zvcm0+ICA8L2NpcmNsZT48L3N2Zz4=\\\");\\n  background-size: auto calc(min(50%, 400px));\\n}\",{\"id\":\"p1008\"},{\"id\":\"p1006\"},{\"id\":\"p1007\"}],\"margin\":0,\"sizing_mode\":\"stretch_width\",\"align\":\"start\"}}]}}],\"defs\":[{\"type\":\"model\",\"name\":\"ReactiveHTML1\"},{\"type\":\"model\",\"name\":\"FlexBox1\",\"properties\":[{\"name\":\"align_content\",\"kind\":\"Any\",\"default\":\"flex-start\"},{\"name\":\"align_items\",\"kind\":\"Any\",\"default\":\"flex-start\"},{\"name\":\"flex_direction\",\"kind\":\"Any\",\"default\":\"row\"},{\"name\":\"flex_wrap\",\"kind\":\"Any\",\"default\":\"wrap\"},{\"name\":\"justify_content\",\"kind\":\"Any\",\"default\":\"flex-start\"}]},{\"type\":\"model\",\"name\":\"FloatPanel1\",\"properties\":[{\"name\":\"config\",\"kind\":\"Any\",\"default\":{\"type\":\"map\"}},{\"name\":\"contained\",\"kind\":\"Any\",\"default\":true},{\"name\":\"position\",\"kind\":\"Any\",\"default\":\"right-top\"},{\"name\":\"offsetx\",\"kind\":\"Any\",\"default\":null},{\"name\":\"offsety\",\"kind\":\"Any\",\"default\":null},{\"name\":\"theme\",\"kind\":\"Any\",\"default\":\"primary\"},{\"name\":\"status\",\"kind\":\"Any\",\"default\":\"normalized\"}]},{\"type\":\"model\",\"name\":\"GridStack1\",\"properties\":[{\"name\":\"mode\",\"kind\":\"Any\",\"default\":\"warn\"},{\"name\":\"ncols\",\"kind\":\"Any\",\"default\":null},{\"name\":\"nrows\",\"kind\":\"Any\",\"default\":null},{\"name\":\"allow_resize\",\"kind\":\"Any\",\"default\":true},{\"name\":\"allow_drag\",\"kind\":\"Any\",\"default\":true},{\"name\":\"state\",\"kind\":\"Any\",\"default\":[]}]},{\"type\":\"model\",\"name\":\"drag1\",\"properties\":[{\"name\":\"slider_width\",\"kind\":\"Any\",\"default\":5},{\"name\":\"slider_color\",\"kind\":\"Any\",\"default\":\"black\"},{\"name\":\"value\",\"kind\":\"Any\",\"default\":50}]},{\"type\":\"model\",\"name\":\"click1\",\"properties\":[{\"name\":\"terminal_output\",\"kind\":\"Any\",\"default\":\"\"},{\"name\":\"debug_name\",\"kind\":\"Any\",\"default\":\"\"},{\"name\":\"clears\",\"kind\":\"Any\",\"default\":0}]},{\"type\":\"model\",\"name\":\"FastWrapper1\",\"properties\":[{\"name\":\"object\",\"kind\":\"Any\",\"default\":null},{\"name\":\"style\",\"kind\":\"Any\",\"default\":null}]},{\"type\":\"model\",\"name\":\"NotificationAreaBase1\",\"properties\":[{\"name\":\"js_events\",\"kind\":\"Any\",\"default\":{\"type\":\"map\"}},{\"name\":\"position\",\"kind\":\"Any\",\"default\":\"bottom-right\"},{\"name\":\"_clear\",\"kind\":\"Any\",\"default\":0}]},{\"type\":\"model\",\"name\":\"NotificationArea1\",\"properties\":[{\"name\":\"js_events\",\"kind\":\"Any\",\"default\":{\"type\":\"map\"}},{\"name\":\"notifications\",\"kind\":\"Any\",\"default\":[]},{\"name\":\"position\",\"kind\":\"Any\",\"default\":\"bottom-right\"},{\"name\":\"_clear\",\"kind\":\"Any\",\"default\":0},{\"name\":\"types\",\"kind\":\"Any\",\"default\":[{\"type\":\"map\",\"entries\":[[\"type\",\"warning\"],[\"background\",\"#ffc107\"],[\"icon\",{\"type\":\"map\",\"entries\":[[\"className\",\"fas fa-exclamation-triangle\"],[\"tagName\",\"i\"],[\"color\",\"white\"]]}]]},{\"type\":\"map\",\"entries\":[[\"type\",\"info\"],[\"background\",\"#007bff\"],[\"icon\",{\"type\":\"map\",\"entries\":[[\"className\",\"fas fa-info-circle\"],[\"tagName\",\"i\"],[\"color\",\"white\"]]}]]}]}]},{\"type\":\"model\",\"name\":\"Notification\",\"properties\":[{\"name\":\"background\",\"kind\":\"Any\",\"default\":null},{\"name\":\"duration\",\"kind\":\"Any\",\"default\":3000},{\"name\":\"icon\",\"kind\":\"Any\",\"default\":null},{\"name\":\"message\",\"kind\":\"Any\",\"default\":\"\"},{\"name\":\"notification_type\",\"kind\":\"Any\",\"default\":null},{\"name\":\"_destroyed\",\"kind\":\"Any\",\"default\":false}]},{\"type\":\"model\",\"name\":\"TemplateActions1\",\"properties\":[{\"name\":\"open_modal\",\"kind\":\"Any\",\"default\":0},{\"name\":\"close_modal\",\"kind\":\"Any\",\"default\":0}]},{\"type\":\"model\",\"name\":\"BootstrapTemplateActions1\",\"properties\":[{\"name\":\"open_modal\",\"kind\":\"Any\",\"default\":0},{\"name\":\"close_modal\",\"kind\":\"Any\",\"default\":0}]},{\"type\":\"model\",\"name\":\"MaterialTemplateActions1\",\"properties\":[{\"name\":\"open_modal\",\"kind\":\"Any\",\"default\":0},{\"name\":\"close_modal\",\"kind\":\"Any\",\"default\":0}]}]}};\n",
       "  var render_items = [{\"docid\":\"f576d925-98f0-49c4-9065-f17d5bb4e728\",\"roots\":{\"p1005\":\"fc7afddb-d5bd-4126-9c76-021a75f43437\"},\"root_ids\":[\"p1005\"]}];\n",
       "  var docs = Object.values(docs_json)\n",
       "  if (!docs) {\n",
       "    return\n",
       "  }\n",
       "  const py_version = docs[0].version.replace('rc', '-rc.').replace('.dev', '-dev.')\n",
       "  const is_dev = py_version.indexOf(\"+\") !== -1 || py_version.indexOf(\"-\") !== -1\n",
       "  function embed_document(root) {\n",
       "    var Bokeh = get_bokeh(root)\n",
       "    Bokeh.embed.embed_items_notebook(docs_json, render_items);\n",
       "    for (const render_item of render_items) {\n",
       "      for (const root_id of render_item.root_ids) {\n",
       "\tconst id_el = document.getElementById(root_id)\n",
       "\tif (id_el.children.length && (id_el.children[0].className === 'bk-root')) {\n",
       "\t  const root_el = id_el.children[0]\n",
       "\t  root_el.id = root_el.id + '-rendered'\n",
       "\t}\n",
       "      }\n",
       "    }\n",
       "  }\n",
       "  function get_bokeh(root) {\n",
       "    if (root.Bokeh === undefined) {\n",
       "      return null\n",
       "    } else if (root.Bokeh.version !== py_version && !is_dev) {\n",
       "      if (root.Bokeh.versions === undefined || !root.Bokeh.versions.has(py_version)) {\n",
       "\treturn null\n",
       "      }\n",
       "      return root.Bokeh.versions.get(py_version);\n",
       "    } else if (root.Bokeh.version === py_version) {\n",
       "      return root.Bokeh\n",
       "    }\n",
       "    return null\n",
       "  }\n",
       "  function is_loaded(root) {\n",
       "    var Bokeh = get_bokeh(root)\n",
       "    return (Bokeh != null && Bokeh.Panel !== undefined)\n",
       "  }\n",
       "  if (is_loaded(root)) {\n",
       "    embed_document(root);\n",
       "  } else {\n",
       "    var attempts = 0;\n",
       "    var timer = setInterval(function(root) {\n",
       "      if (is_loaded(root)) {\n",
       "        clearInterval(timer);\n",
       "        embed_document(root);\n",
       "      } else if (document.readyState == \"complete\") {\n",
       "        attempts++;\n",
       "        if (attempts > 200) {\n",
       "          clearInterval(timer);\n",
       "\t  var Bokeh = get_bokeh(root)\n",
       "\t  if (Bokeh == null || Bokeh.Panel == null) {\n",
       "            console.warn(\"Panel: ERROR: Unable to run Panel code because Bokeh or Panel library is missing\");\n",
       "\t  } else {\n",
       "\t    console.warn(\"Panel: WARNING: Attempting to render but not all required libraries could be resolved.\")\n",
       "\t    embed_document(root)\n",
       "\t  }\n",
       "        }\n",
       "      }\n",
       "    }, 25, root)\n",
       "  }\n",
       "})(window);</script>"
      ],
      "text/plain": [
       ":Points   [Lng,Lat]   (Humidity)"
      ]
     },
     "execution_count": 13,
     "metadata": {
      "application/vnd.holoviews_exec.v0+json": {
       "id": "p1005"
      }
     },
     "output_type": "execute_result"
    }
   ],
   "source": [
    "%%capture --no-display\n",
    "gdf = gpd.GeoDataFrame(city_data_df, geometry=gpd.points_from_xy(city_data_df['Lng'], city_data_df['Lat']))\n",
    "\n",
    "# Configure the map plot\n",
    "# YOUR CODE HERE\n",
    "humidity_map = gdf.hvplot.points(\n",
    "    geo=True,\n",
    "    x='Lng',\n",
    "    y='Lat',\n",
    "    size='Humidity',\n",
    "    cmap='viridis',\n",
    "    colorbar=True,\n",
    "    title='City Humidity Map',\n",
    "    tools=['hover']\n",
    ").opts(width=800, height=500)\n",
    "\n",
    "# Display the map\n",
    "# YOUR CODE HERE\n",
    "humidity_map"
   ]
  },
  {
   "cell_type": "markdown",
   "metadata": {},
   "source": [
    "### Step 2: Narrow down the `city_data_df` DataFrame to find your ideal weather condition"
   ]
  },
  {
   "cell_type": "code",
   "execution_count": 22,
   "metadata": {
    "tags": []
   },
   "outputs": [
    {
     "data": {
      "text/html": [
       "<div>\n",
       "<style scoped>\n",
       "    .dataframe tbody tr th:only-of-type {\n",
       "        vertical-align: middle;\n",
       "    }\n",
       "\n",
       "    .dataframe tbody tr th {\n",
       "        vertical-align: top;\n",
       "    }\n",
       "\n",
       "    .dataframe thead th {\n",
       "        text-align: right;\n",
       "    }\n",
       "</style>\n",
       "<table border=\"1\" class=\"dataframe\">\n",
       "  <thead>\n",
       "    <tr style=\"text-align: right;\">\n",
       "      <th></th>\n",
       "      <th>City_ID</th>\n",
       "      <th>City</th>\n",
       "      <th>Lat</th>\n",
       "      <th>Lng</th>\n",
       "      <th>Max Temp</th>\n",
       "      <th>Humidity</th>\n",
       "      <th>Cloudiness</th>\n",
       "      <th>Wind Speed</th>\n",
       "      <th>Country</th>\n",
       "      <th>Date</th>\n",
       "    </tr>\n",
       "  </thead>\n",
       "  <tbody>\n",
       "  </tbody>\n",
       "</table>\n",
       "</div>"
      ],
      "text/plain": [
       "Empty DataFrame\n",
       "Columns: [City_ID, City, Lat, Lng, Max Temp, Humidity, Cloudiness, Wind Speed, Country, Date]\n",
       "Index: []"
      ]
     },
     "execution_count": 22,
     "metadata": {},
     "output_type": "execute_result"
    }
   ],
   "source": [
    "# Narrow down cities that fit criteria and drop any results with null values\n",
    "# YOUR CODE HERE\n",
    "ideal_conditions_df = city_data_df[\n",
    "    (city_data_df['Max Temp'] > 21) & (city_data_df['Max Temp'] < 27) &\n",
    "    (city_data_df['Wind Speed'] < 4.5) & (city_data_df['Cloudiness'] == 0)\n",
    "]\n",
    "\n",
    "# Drop any rows with null values\n",
    "# YOUR CODE HERE\n",
    "ideal_conditions_df = ideal_conditions_df.dropna()\n",
    "\n",
    "# Display sample data\n",
    "# YOUR CODE HERE\n",
    "ideal_conditions_df.head()"
   ]
  },
  {
   "cell_type": "markdown",
   "metadata": {},
   "source": [
    "### Step 3: Create a new DataFrame called `hotel_df`."
   ]
  },
  {
   "cell_type": "code",
   "execution_count": 23,
   "metadata": {
    "tags": []
   },
   "outputs": [
    {
     "data": {
      "text/html": [
       "<div>\n",
       "<style scoped>\n",
       "    .dataframe tbody tr th:only-of-type {\n",
       "        vertical-align: middle;\n",
       "    }\n",
       "\n",
       "    .dataframe tbody tr th {\n",
       "        vertical-align: top;\n",
       "    }\n",
       "\n",
       "    .dataframe thead th {\n",
       "        text-align: right;\n",
       "    }\n",
       "</style>\n",
       "<table border=\"1\" class=\"dataframe\">\n",
       "  <thead>\n",
       "    <tr style=\"text-align: right;\">\n",
       "      <th></th>\n",
       "      <th>City_ID</th>\n",
       "      <th>City</th>\n",
       "      <th>Lat</th>\n",
       "      <th>Lng</th>\n",
       "      <th>Max Temp</th>\n",
       "      <th>Humidity</th>\n",
       "      <th>Cloudiness</th>\n",
       "      <th>Wind Speed</th>\n",
       "      <th>Country</th>\n",
       "      <th>Date</th>\n",
       "      <th>Hotel_Name</th>\n",
       "    </tr>\n",
       "  </thead>\n",
       "  <tbody>\n",
       "  </tbody>\n",
       "</table>\n",
       "</div>"
      ],
      "text/plain": [
       "Empty DataFrame\n",
       "Columns: [City_ID, City, Lat, Lng, Max Temp, Humidity, Cloudiness, Wind Speed, Country, Date, Hotel_Name]\n",
       "Index: []"
      ]
     },
     "execution_count": 23,
     "metadata": {},
     "output_type": "execute_result"
    }
   ],
   "source": [
    "# Use the Pandas copy function to create DataFrame called hotel_df\n",
    "hotel_df = ideal_conditions_df.copy()\n",
    "\n",
    "# Add an empty column, \"Hotel Name,\" to the DataFrame\n",
    "hotel_df = hotel_df.assign(Hotel_Name=\"\")\n",
    "\n",
    "# Display sample data\n",
    "hotel_df.head()\n"
   ]
  },
  {
   "cell_type": "markdown",
   "metadata": {},
   "source": [
    "### Step 4: For each city, use the Geoapify API to find the first hotel located within 10,000 metres of your coordinates."
   ]
  },
  {
   "cell_type": "code",
   "execution_count": 24,
   "metadata": {
    "tags": []
   },
   "outputs": [
    {
     "name": "stdout",
     "output_type": "stream",
     "text": [
      "Starting hotel search\n"
     ]
    },
    {
     "data": {
      "text/html": [
       "<div>\n",
       "<style scoped>\n",
       "    .dataframe tbody tr th:only-of-type {\n",
       "        vertical-align: middle;\n",
       "    }\n",
       "\n",
       "    .dataframe tbody tr th {\n",
       "        vertical-align: top;\n",
       "    }\n",
       "\n",
       "    .dataframe thead th {\n",
       "        text-align: right;\n",
       "    }\n",
       "</style>\n",
       "<table border=\"1\" class=\"dataframe\">\n",
       "  <thead>\n",
       "    <tr style=\"text-align: right;\">\n",
       "      <th></th>\n",
       "      <th>City_ID</th>\n",
       "      <th>City</th>\n",
       "      <th>Lat</th>\n",
       "      <th>Lng</th>\n",
       "      <th>Max Temp</th>\n",
       "      <th>Humidity</th>\n",
       "      <th>Cloudiness</th>\n",
       "      <th>Wind Speed</th>\n",
       "      <th>Country</th>\n",
       "      <th>Date</th>\n",
       "      <th>Hotel_Name</th>\n",
       "    </tr>\n",
       "  </thead>\n",
       "  <tbody>\n",
       "  </tbody>\n",
       "</table>\n",
       "</div>"
      ],
      "text/plain": [
       "Empty DataFrame\n",
       "Columns: [City_ID, City, Lat, Lng, Max Temp, Humidity, Cloudiness, Wind Speed, Country, Date, Hotel_Name]\n",
       "Index: []"
      ]
     },
     "execution_count": 24,
     "metadata": {},
     "output_type": "execute_result"
    }
   ],
   "source": [
    "# Set parameters to search for a hotel\n",
    "radius = 10000  # 10,000 meters radius\n",
    "params = {\n",
    "    \"apiKey\": \"0eb85704e8824d3197e46360ecc9a241\",  \n",
    "    \"radius\": radius,\n",
    "    \"filter\": \"amenity:hotel\",\n",
    "}\n",
    "\n",
    "# Print a message to follow up the hotel search\n",
    "print(\"Starting hotel search\")\n",
    "\n",
    "# Iterate through the hotel_df DataFrame\n",
    "for index, row in hotel_df.iterrows():\n",
    "    # Get latitude, longitude from the DataFrame\n",
    "    latitude = row[\"Lat\"]\n",
    "    longitude = row[\"Lng\"]\n",
    "    \n",
    "    # Add filter and bias parameters with the current city's latitude and longitude to the params dictionary\n",
    "    params[\"filter\"] = f\"amenity:hotel\"\n",
    "    params[\"bias\"] = f\"circle:{radius}@{longitude},{latitude}\"\n",
    "    \n",
    "    # Set base URL\n",
    "    base_url = \"https://api.geoapify.com/v2/places\"\n",
    "\n",
    "    # Make an API request using the params dictionary\n",
    "    name_address = requests.get(base_url, params=params).json()\n",
    "    \n",
    "    # Grab the first hotel from the results and store the name in the hotel_df DataFrame\n",
    "    try:\n",
    "        hotel_df.loc[index, \"Hotel Name\"] = name_address[\"features\"][0][\"properties\"][\"name\"]\n",
    "    except (KeyError, IndexError):\n",
    "        # If no hotel is found, set the hotel name as \"No hotel found\".\n",
    "        hotel_df.loc[index, \"Hotel Name\"] = \"No hotel found\"\n",
    "        \n",
    "    # Log the search results\n",
    "    print(f\"{hotel_df.loc[index, 'City']} - nearest hotel: {hotel_df.loc[index, 'Hotel Name']}\")\n",
    "\n",
    "# Display sample data\n",
    "hotel_df.head()\n"
   ]
  },
  {
   "cell_type": "markdown",
   "metadata": {},
   "source": [
    "### Step 5: Add the hotel name and the country as additional information in the hover message for each city in the map."
   ]
  },
  {
   "cell_type": "code",
   "execution_count": 25,
   "metadata": {
    "tags": []
   },
   "outputs": [
    {
     "ename": "ValueError",
     "evalue": "Unexpected option 'hover_cols' for Points type across all extensions. Similar options for current extension ('bokeh') are: ['hover_color', 'hover_fill_color', 'hover_line_color'].",
     "output_type": "error",
     "traceback": [
      "\u001b[0;31m---------------------------------------------------------------------------\u001b[0m",
      "\u001b[0;31mValueError\u001b[0m                                Traceback (most recent call last)",
      "Cell \u001b[0;32mIn[25], line 12\u001b[0m\n\u001b[1;32m      1\u001b[0m \u001b[38;5;66;03m# Configure the map plot\u001b[39;00m\n\u001b[1;32m      2\u001b[0m \u001b[38;5;66;03m# YOUR CODE HERE\u001b[39;00m\n\u001b[1;32m      3\u001b[0m hotel_map \u001b[38;5;241m=\u001b[39m gdf\u001b[38;5;241m.\u001b[39mhvplot\u001b[38;5;241m.\u001b[39mpoints(\n\u001b[1;32m      4\u001b[0m     geo\u001b[38;5;241m=\u001b[39m\u001b[38;5;28;01mTrue\u001b[39;00m,\n\u001b[1;32m      5\u001b[0m     x\u001b[38;5;241m=\u001b[39m\u001b[38;5;124m'\u001b[39m\u001b[38;5;124mLng\u001b[39m\u001b[38;5;124m'\u001b[39m,\n\u001b[1;32m      6\u001b[0m     y\u001b[38;5;241m=\u001b[39m\u001b[38;5;124m'\u001b[39m\u001b[38;5;124mLat\u001b[39m\u001b[38;5;124m'\u001b[39m,\n\u001b[1;32m      7\u001b[0m     size\u001b[38;5;241m=\u001b[39m\u001b[38;5;124m'\u001b[39m\u001b[38;5;124mHumidity\u001b[39m\u001b[38;5;124m'\u001b[39m,\n\u001b[1;32m      8\u001b[0m     cmap\u001b[38;5;241m=\u001b[39m\u001b[38;5;124m'\u001b[39m\u001b[38;5;124mviridis\u001b[39m\u001b[38;5;124m'\u001b[39m,\n\u001b[1;32m      9\u001b[0m     colorbar\u001b[38;5;241m=\u001b[39m\u001b[38;5;28;01mTrue\u001b[39;00m,\n\u001b[1;32m     10\u001b[0m     title\u001b[38;5;241m=\u001b[39m\u001b[38;5;124m'\u001b[39m\u001b[38;5;124mCity Humidity Map\u001b[39m\u001b[38;5;124m'\u001b[39m,\n\u001b[1;32m     11\u001b[0m     tools\u001b[38;5;241m=\u001b[39m[\u001b[38;5;124m'\u001b[39m\u001b[38;5;124mhover\u001b[39m\u001b[38;5;124m'\u001b[39m]\n\u001b[0;32m---> 12\u001b[0m )\u001b[38;5;241m.\u001b[39mopts(width\u001b[38;5;241m=\u001b[39m\u001b[38;5;241m800\u001b[39m, height\u001b[38;5;241m=\u001b[39m\u001b[38;5;241m500\u001b[39m, hover_cols\u001b[38;5;241m=\u001b[39m[\u001b[38;5;124m'\u001b[39m\u001b[38;5;124mCity\u001b[39m\u001b[38;5;124m'\u001b[39m, \u001b[38;5;124m'\u001b[39m\u001b[38;5;124mCountry\u001b[39m\u001b[38;5;124m'\u001b[39m, \u001b[38;5;124m'\u001b[39m\u001b[38;5;124mHumidity\u001b[39m\u001b[38;5;124m'\u001b[39m, \u001b[38;5;124m'\u001b[39m\u001b[38;5;124mHotel Name\u001b[39m\u001b[38;5;124m'\u001b[39m])\n\u001b[1;32m     14\u001b[0m \u001b[38;5;66;03m# Display the map\u001b[39;00m\n\u001b[1;32m     15\u001b[0m hotel_map\n",
      "File \u001b[0;32m/Applications/anaconda3/lib/python3.11/site-packages/holoviews/core/accessors.py:43\u001b[0m, in \u001b[0;36mAccessorPipelineMeta.pipelined.<locals>.pipelined_call\u001b[0;34m(*args, **kwargs)\u001b[0m\n\u001b[1;32m     40\u001b[0m     inst\u001b[38;5;241m.\u001b[39m_obj\u001b[38;5;241m.\u001b[39m_in_method \u001b[38;5;241m=\u001b[39m \u001b[38;5;28;01mTrue\u001b[39;00m\n\u001b[1;32m     42\u001b[0m \u001b[38;5;28;01mtry\u001b[39;00m:\n\u001b[0;32m---> 43\u001b[0m     result \u001b[38;5;241m=\u001b[39m \u001b[38;5;21m__call__\u001b[39m(\u001b[38;5;241m*\u001b[39margs, \u001b[38;5;241m*\u001b[39m\u001b[38;5;241m*\u001b[39mkwargs)\n\u001b[1;32m     45\u001b[0m     \u001b[38;5;28;01mif\u001b[39;00m \u001b[38;5;129;01mnot\u001b[39;00m in_method:\n\u001b[1;32m     46\u001b[0m         init_op \u001b[38;5;241m=\u001b[39m factory\u001b[38;5;241m.\u001b[39minstance(\n\u001b[1;32m     47\u001b[0m             output_type\u001b[38;5;241m=\u001b[39m\u001b[38;5;28mtype\u001b[39m(inst),\n\u001b[1;32m     48\u001b[0m             kwargs\u001b[38;5;241m=\u001b[39m{\u001b[38;5;124m'\u001b[39m\u001b[38;5;124mmode\u001b[39m\u001b[38;5;124m'\u001b[39m: \u001b[38;5;28mgetattr\u001b[39m(inst, \u001b[38;5;124m'\u001b[39m\u001b[38;5;124mmode\u001b[39m\u001b[38;5;124m'\u001b[39m, \u001b[38;5;28;01mNone\u001b[39;00m)},\n\u001b[1;32m     49\u001b[0m         )\n",
      "File \u001b[0;32m/Applications/anaconda3/lib/python3.11/site-packages/holoviews/core/accessors.py:568\u001b[0m, in \u001b[0;36mOpts.__call__\u001b[0;34m(self, *args, **kwargs)\u001b[0m\n\u001b[1;32m    562\u001b[0m         msg \u001b[38;5;241m=\u001b[39m (\u001b[38;5;124m\"\u001b[39m\u001b[38;5;124mCalling the .opts method with options broken down by options \u001b[39m\u001b[38;5;124m\"\u001b[39m\n\u001b[1;32m    563\u001b[0m                \u001b[38;5;124m\"\u001b[39m\u001b[38;5;124mgroup (i.e. separate plot, style and norm groups) has been removed. \u001b[39m\u001b[38;5;124m\"\u001b[39m\n\u001b[1;32m    564\u001b[0m                \u001b[38;5;124m\"\u001b[39m\u001b[38;5;124mUse the .options method converting to the simplified format \u001b[39m\u001b[38;5;124m\"\u001b[39m\n\u001b[1;32m    565\u001b[0m                \u001b[38;5;124m\"\u001b[39m\u001b[38;5;124minstead or use hv.opts.apply_groups for backward compatibility.\u001b[39m\u001b[38;5;124m\"\u001b[39m)\n\u001b[1;32m    566\u001b[0m         \u001b[38;5;28;01mraise\u001b[39;00m \u001b[38;5;167;01mValueError\u001b[39;00m(msg)\n\u001b[0;32m--> 568\u001b[0m \u001b[38;5;28;01mreturn\u001b[39;00m \u001b[38;5;28mself\u001b[39m\u001b[38;5;241m.\u001b[39m_dispatch_opts( \u001b[38;5;241m*\u001b[39margs, \u001b[38;5;241m*\u001b[39m\u001b[38;5;241m*\u001b[39mkwargs)\n",
      "File \u001b[0;32m/Applications/anaconda3/lib/python3.11/site-packages/holoviews/core/accessors.py:572\u001b[0m, in \u001b[0;36mOpts._dispatch_opts\u001b[0;34m(self, *args, **kwargs)\u001b[0m\n\u001b[1;32m    570\u001b[0m \u001b[38;5;28;01mdef\u001b[39;00m \u001b[38;5;21m_dispatch_opts\u001b[39m(\u001b[38;5;28mself\u001b[39m, \u001b[38;5;241m*\u001b[39margs, \u001b[38;5;241m*\u001b[39m\u001b[38;5;241m*\u001b[39mkwargs):\n\u001b[1;32m    571\u001b[0m     \u001b[38;5;28;01mif\u001b[39;00m \u001b[38;5;28mself\u001b[39m\u001b[38;5;241m.\u001b[39m_mode \u001b[38;5;129;01mis\u001b[39;00m \u001b[38;5;28;01mNone\u001b[39;00m:\n\u001b[0;32m--> 572\u001b[0m         \u001b[38;5;28;01mreturn\u001b[39;00m \u001b[38;5;28mself\u001b[39m\u001b[38;5;241m.\u001b[39m_base_opts(\u001b[38;5;241m*\u001b[39margs, \u001b[38;5;241m*\u001b[39m\u001b[38;5;241m*\u001b[39mkwargs)\n\u001b[1;32m    573\u001b[0m     \u001b[38;5;28;01melif\u001b[39;00m \u001b[38;5;28mself\u001b[39m\u001b[38;5;241m.\u001b[39m_mode \u001b[38;5;241m==\u001b[39m \u001b[38;5;124m'\u001b[39m\u001b[38;5;124mholomap\u001b[39m\u001b[38;5;124m'\u001b[39m:\n\u001b[1;32m    574\u001b[0m         \u001b[38;5;28;01mreturn\u001b[39;00m \u001b[38;5;28mself\u001b[39m\u001b[38;5;241m.\u001b[39m_holomap_opts(\u001b[38;5;241m*\u001b[39margs, \u001b[38;5;241m*\u001b[39m\u001b[38;5;241m*\u001b[39mkwargs)\n",
      "File \u001b[0;32m/Applications/anaconda3/lib/python3.11/site-packages/holoviews/core/accessors.py:650\u001b[0m, in \u001b[0;36mOpts._base_opts\u001b[0;34m(self, *args, **kwargs)\u001b[0m\n\u001b[1;32m    647\u001b[0m     \u001b[38;5;28;01mreturn\u001b[39;00m opts\u001b[38;5;241m.\u001b[39mapply_groups(\u001b[38;5;28mself\u001b[39m\u001b[38;5;241m.\u001b[39m_obj, \u001b[38;5;241m*\u001b[39m\u001b[38;5;241m*\u001b[39m\u001b[38;5;28mdict\u001b[39m(kwargs, \u001b[38;5;241m*\u001b[39m\u001b[38;5;241m*\u001b[39mnew_kwargs))\n\u001b[1;32m    649\u001b[0m kwargs[\u001b[38;5;124m'\u001b[39m\u001b[38;5;124mclone\u001b[39m\u001b[38;5;124m'\u001b[39m] \u001b[38;5;241m=\u001b[39m \u001b[38;5;28;01mFalse\u001b[39;00m \u001b[38;5;28;01mif\u001b[39;00m clone \u001b[38;5;129;01mis\u001b[39;00m \u001b[38;5;28;01mNone\u001b[39;00m \u001b[38;5;28;01melse\u001b[39;00m clone\n\u001b[0;32m--> 650\u001b[0m \u001b[38;5;28;01mreturn\u001b[39;00m \u001b[38;5;28mself\u001b[39m\u001b[38;5;241m.\u001b[39m_obj\u001b[38;5;241m.\u001b[39moptions(\u001b[38;5;241m*\u001b[39mnew_args, \u001b[38;5;241m*\u001b[39m\u001b[38;5;241m*\u001b[39mkwargs)\n",
      "File \u001b[0;32m/Applications/anaconda3/lib/python3.11/site-packages/holoviews/core/data/__init__.py:195\u001b[0m, in \u001b[0;36mPipelineMeta.pipelined.<locals>.pipelined_fn\u001b[0;34m(*args, **kwargs)\u001b[0m\n\u001b[1;32m    192\u001b[0m     inst\u001b[38;5;241m.\u001b[39m_in_method \u001b[38;5;241m=\u001b[39m \u001b[38;5;28;01mTrue\u001b[39;00m\n\u001b[1;32m    194\u001b[0m \u001b[38;5;28;01mtry\u001b[39;00m:\n\u001b[0;32m--> 195\u001b[0m     result \u001b[38;5;241m=\u001b[39m method_fn(\u001b[38;5;241m*\u001b[39margs, \u001b[38;5;241m*\u001b[39m\u001b[38;5;241m*\u001b[39mkwargs)\n\u001b[1;32m    196\u001b[0m     \u001b[38;5;28;01mif\u001b[39;00m PipelineMeta\u001b[38;5;241m.\u001b[39mdisable:\n\u001b[1;32m    197\u001b[0m         \u001b[38;5;28;01mreturn\u001b[39;00m result\n",
      "File \u001b[0;32m/Applications/anaconda3/lib/python3.11/site-packages/holoviews/core/data/__init__.py:1199\u001b[0m, in \u001b[0;36mDataset.options\u001b[0;34m(self, *args, **kwargs)\u001b[0m\n\u001b[1;32m   1197\u001b[0m \u001b[38;5;129m@wraps\u001b[39m(Dimensioned\u001b[38;5;241m.\u001b[39moptions)\n\u001b[1;32m   1198\u001b[0m \u001b[38;5;28;01mdef\u001b[39;00m \u001b[38;5;21moptions\u001b[39m(\u001b[38;5;28mself\u001b[39m, \u001b[38;5;241m*\u001b[39margs, \u001b[38;5;241m*\u001b[39m\u001b[38;5;241m*\u001b[39mkwargs):\n\u001b[0;32m-> 1199\u001b[0m     \u001b[38;5;28;01mreturn\u001b[39;00m \u001b[38;5;28msuper\u001b[39m()\u001b[38;5;241m.\u001b[39moptions(\u001b[38;5;241m*\u001b[39margs, \u001b[38;5;241m*\u001b[39m\u001b[38;5;241m*\u001b[39mkwargs)\n",
      "File \u001b[0;32m/Applications/anaconda3/lib/python3.11/site-packages/holoviews/core/dimension.py:1273\u001b[0m, in \u001b[0;36mDimensioned.options\u001b[0;34m(self, clone, *args, **kwargs)\u001b[0m\n\u001b[1;32m   1271\u001b[0m     expanded_backends \u001b[38;5;241m=\u001b[39m opts\u001b[38;5;241m.\u001b[39m_expand_by_backend(options, backend)\n\u001b[1;32m   1272\u001b[0m \u001b[38;5;28;01melse\u001b[39;00m:\n\u001b[0;32m-> 1273\u001b[0m     expanded_backends \u001b[38;5;241m=\u001b[39m [(backend, opts\u001b[38;5;241m.\u001b[39m_expand_options(options, backend))]\n\u001b[1;32m   1275\u001b[0m obj \u001b[38;5;241m=\u001b[39m \u001b[38;5;28mself\u001b[39m\n\u001b[1;32m   1276\u001b[0m \u001b[38;5;28;01mfor\u001b[39;00m backend, expanded \u001b[38;5;129;01min\u001b[39;00m expanded_backends:\n",
      "File \u001b[0;32m/Applications/anaconda3/lib/python3.11/site-packages/holoviews/util/__init__.py:363\u001b[0m, in \u001b[0;36mopts._expand_options\u001b[0;34m(cls, options, backend)\u001b[0m\n\u001b[1;32m    357\u001b[0m         \u001b[38;5;28;01melse\u001b[39;00m:\n\u001b[1;32m    358\u001b[0m             valid_options \u001b[38;5;241m=\u001b[39m \u001b[38;5;28msorted\u001b[39m({\n\u001b[1;32m    359\u001b[0m                 keyword\n\u001b[1;32m    360\u001b[0m                 \u001b[38;5;28;01mfor\u001b[39;00m group_opts \u001b[38;5;129;01min\u001b[39;00m obj_options\u001b[38;5;241m.\u001b[39mgroups\u001b[38;5;241m.\u001b[39mvalues()\n\u001b[1;32m    361\u001b[0m                 \u001b[38;5;28;01mfor\u001b[39;00m keyword \u001b[38;5;129;01min\u001b[39;00m group_opts\u001b[38;5;241m.\u001b[39mallowed_keywords\n\u001b[1;32m    362\u001b[0m             })\n\u001b[0;32m--> 363\u001b[0m             \u001b[38;5;28mcls\u001b[39m\u001b[38;5;241m.\u001b[39m_options_error(opt, objtype, backend, valid_options)\n\u001b[1;32m    364\u001b[0m \u001b[38;5;28;01mreturn\u001b[39;00m expanded\n",
      "File \u001b[0;32m/Applications/anaconda3/lib/python3.11/site-packages/holoviews/util/__init__.py:404\u001b[0m, in \u001b[0;36mopts._options_error\u001b[0;34m(cls, opt, objtype, backend, valid_options)\u001b[0m\n\u001b[1;32m    401\u001b[0m     \u001b[38;5;28;01mreturn\u001b[39;00m\n\u001b[1;32m    403\u001b[0m \u001b[38;5;28;01mif\u001b[39;00m matches:\n\u001b[0;32m--> 404\u001b[0m     \u001b[38;5;28;01mraise\u001b[39;00m \u001b[38;5;167;01mValueError\u001b[39;00m(\u001b[38;5;124m'\u001b[39m\u001b[38;5;124mUnexpected option \u001b[39m\u001b[38;5;132;01m{!r}\u001b[39;00m\u001b[38;5;124m for \u001b[39m\u001b[38;5;132;01m{}\u001b[39;00m\u001b[38;5;124m type \u001b[39m\u001b[38;5;124m'\u001b[39m\n\u001b[1;32m    405\u001b[0m                      \u001b[38;5;124m'\u001b[39m\u001b[38;5;124macross all extensions. Similar options \u001b[39m\u001b[38;5;124m'\u001b[39m\n\u001b[1;32m    406\u001b[0m                      \u001b[38;5;124m'\u001b[39m\u001b[38;5;124mfor current extension (\u001b[39m\u001b[38;5;132;01m{!r}\u001b[39;00m\u001b[38;5;124m) are: \u001b[39m\u001b[38;5;132;01m{}\u001b[39;00m\u001b[38;5;124m.\u001b[39m\u001b[38;5;124m'\u001b[39m\u001b[38;5;241m.\u001b[39mformat(opt, objtype, current_backend, matches))\n\u001b[1;32m    407\u001b[0m \u001b[38;5;28;01melse\u001b[39;00m:\n\u001b[1;32m    408\u001b[0m     \u001b[38;5;28;01mraise\u001b[39;00m \u001b[38;5;167;01mValueError\u001b[39;00m(\u001b[38;5;124mf\u001b[39m\u001b[38;5;124m'\u001b[39m\u001b[38;5;124mUnexpected option \u001b[39m\u001b[38;5;132;01m{\u001b[39;00mopt\u001b[38;5;132;01m!r}\u001b[39;00m\u001b[38;5;124m for \u001b[39m\u001b[38;5;132;01m{\u001b[39;00mobjtype\u001b[38;5;132;01m}\u001b[39;00m\u001b[38;5;124m type \u001b[39m\u001b[38;5;124m'\u001b[39m\n\u001b[1;32m    409\u001b[0m                      \u001b[38;5;124m'\u001b[39m\u001b[38;5;124macross all extensions. No similar options found.\u001b[39m\u001b[38;5;124m'\u001b[39m)\n",
      "\u001b[0;31mValueError\u001b[0m: Unexpected option 'hover_cols' for Points type across all extensions. Similar options for current extension ('bokeh') are: ['hover_color', 'hover_fill_color', 'hover_line_color']."
     ]
    }
   ],
   "source": [
    "%%capture --no-display\n",
    "\n",
    "# Configure the map plot\n",
    "# YOUR CODE HERE\n",
    "hotel_map = gdf.hvplot.points(\n",
    "    geo=True,\n",
    "    x='Lng',\n",
    "    y='Lat',\n",
    "    size='Humidity',\n",
    "    cmap='viridis',\n",
    "    colorbar=True,\n",
    "    title='City Humidity Map',\n",
    "    tools=['hover']\n",
    ").opts(width=800, height=500, hover_cols=['City', 'Country', 'Humidity', 'Hotel Name'])\n",
    "\n",
    "# Display the map\n",
    "hotel_map\n"
   ]
  },
  {
   "cell_type": "code",
   "execution_count": null,
   "metadata": {},
   "outputs": [],
   "source": []
  }
 ],
 "metadata": {
  "kernelspec": {
   "display_name": "Python 3 (ipykernel)",
   "language": "python",
   "name": "python3"
  },
  "language_info": {
   "codemirror_mode": {
    "name": "ipython",
    "version": 3
   },
   "file_extension": ".py",
   "mimetype": "text/x-python",
   "name": "python",
   "nbconvert_exporter": "python",
   "pygments_lexer": "ipython3",
   "version": "3.11.5"
  },
  "latex_envs": {
   "LaTeX_envs_menu_present": true,
   "autoclose": false,
   "autocomplete": true,
   "bibliofile": "biblio.bib",
   "cite_by": "apalike",
   "current_citInitial": 1,
   "eqLabelWithNumbers": true,
   "eqNumInitial": 1,
   "hotkeys": {
    "equation": "Ctrl-E",
    "itemize": "Ctrl-I"
   },
   "labels_anchors": false,
   "latex_user_defs": false,
   "report_style_numbering": false,
   "user_envs_cfg": false
  }
 },
 "nbformat": 4,
 "nbformat_minor": 4
}
